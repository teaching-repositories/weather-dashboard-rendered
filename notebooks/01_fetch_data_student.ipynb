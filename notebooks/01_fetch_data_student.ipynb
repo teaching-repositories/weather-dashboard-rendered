{
  "cells": [
    {
      "cell_type": "raw",
      "metadata": {},
      "source": [
        "---\n",
        "title: \"WeatherVista Project - Session 1: Fetching Data from the OpenWeatherMap API\"\n",
        "execute: \n",
        "  enabled: false\n",
        "---"
      ]
    },
    {
      "cell_type": "markdown",
      "metadata": {},
      "source": [
        "[Download Notebook](01_fetch_data_task.ipynb)\n",
        "\n",
        "## Objectives\n",
        "- Learn how to fetch weather data using the OpenWeatherMap API.\n",
        "- Understand how to handle API responses and errors.\n",
        "- Save fetched data to a CSV file.\n",
        "\n",
        "## 1. Introduction to OpenWeatherMap API\n",
        "The OpenWeatherMap API provides weather data for various locations. You need to sign up and get an API key to access the data.\n",
        "\n",
        "### Steps to Get API Key\n",
        "1. Go to [OpenWeatherMap](https://home.openweathermap.org/users/sign_up) and sign up for an account.\n",
        "2. After signing up, navigate to the API keys section and generate a new API key.\n",
        "3. Keep this API key safe, as you will need it to make API requests.\n",
        "\n",
        "## 2. Fetching Weather Data\n",
        "We'll use the `requests` library to fetch weather data from the OpenWeatherMap API.\n",
        "\n",
        "### Import Required Libraries\n"
      ]
    },
    {
      "cell_type": "code",
      "metadata": {},
      "source": [
        "import requests\n",
        "import pandas as pd"
      ],
      "execution_count": null,
      "outputs": []
    },
    {
      "cell_type": "markdown",
      "metadata": {},
      "source": [
        "### Fetch some Data\n",
        "Lets fetch some data..  Replace `'your_api_key_here'` with your actual API key and fetch data for a sample location."
      ]
    },
    {
      "cell_type": "code",
      "metadata": {},
      "source": [
        "# Setup important variables\n",
        "api_key = 'your_api_key_here'\n",
        "location = 'Guangzhou'\n",
        "\n",
        "\n",
        "# Make request to website endpoint\n",
        "url = f\"http://api.openweathermap.org/data/2.5/weather?q={location}&appid={api_key}\"\n",
        "response = requests.get(url)\n",
        "\n",
        "# Print response\n",
        "response"
      ],
      "execution_count": null,
      "outputs": []
    },
    {
      "cell_type": "markdown",
      "metadata": {},
      "source": [
        "What happens if the location does not exist, try a location that does not exist. Replace `'your_api_key_here'` with your actual API key and fetch data for a sample location."
      ]
    },
    {
      "cell_type": "code",
      "metadata": {},
      "source": [
        "# Setup important variables\n",
        "api_key = 'your_api_key_here'\n",
        "location = 'ABCDEFGHIJK'\n",
        "\n",
        "# Make request to website endpoint\n",
        "url = f\"http://api.openweathermap.org/data/2.5/weather?q={location}&appid={api_key}\"\n",
        "response = requests.get(url)\n",
        "\n",
        "# Print response\n",
        "response"
      ],
      "execution_count": null,
      "outputs": []
    },
    {
      "cell_type": "markdown",
      "metadata": {},
      "source": [
        "### Define Function to Fetch Weather Data\n",
        "We'll create a function to fetch weather data for a specific location."
      ]
    },
    {
      "cell_type": "code",
      "metadata": {},
      "source": [
        "def fetch_weather_data(api_key, location):\n",
        "    url = f\"http://api.openweathermap.org/data/2.5/weather?q={location}&appid={api_key}\"\n",
        "    response = requests.get(url)\n",
        "    if response.status_code == 200:\n",
        "        data = response.json()\n",
        "        return data\n",
        "    else:\n",
        "        print(f\"Failed to fetch data: {response.status_code}\")\n",
        "        return None"
      ],
      "execution_count": null,
      "outputs": []
    },
    {
      "cell_type": "markdown",
      "metadata": {},
      "source": [
        "### Fetch Data for a Sample Location\n",
        "Replace `'your_api_key_here'` with your actual API key and fetch data for a sample location."
      ]
    },
    {
      "cell_type": "code",
      "metadata": {},
      "source": [
        "api_key = 'your_api_key_here'\n",
        "location = 'Guangzhou'\n",
        "data = fetch_weather_data(api_key, location)\n",
        "data"
      ],
      "execution_count": null,
      "outputs": []
    },
    {
      "cell_type": "markdown",
      "metadata": {},
      "source": [
        "## 3. Parsing and Displaying Data\n",
        "We'll parse the JSON response and extract relevant information."
      ]
    },
    {
      "cell_type": "code",
      "metadata": {},
      "source": [
        "def parse_weather_data(data):\n",
        "    if data:\n",
        "        weather = {\n",
        "            \"Location\": data[\"name\"],\n",
        "            \"Temperature (K)\": data[\"main\"][\"temp\"],\n",
        "            \"Humidity (%)\": data[\"main\"][\"humidity\"],\n",
        "            \"Weather\": data[\"weather\"][0][\"description\"]\n",
        "        }\n",
        "        return weather\n",
        "    else:\n",
        "        return None\n",
        "\n",
        "parsed_data = parse_weather_data(data)\n",
        "parsed_data"
      ],
      "execution_count": null,
      "outputs": []
    },
    {
      "cell_type": "markdown",
      "metadata": {},
      "source": [
        "## 4. Saving Data to a CSV File\n",
        "We'll save the fetched data to a CSV file using pandas.\n",
        "\n",
        "### Convert Data to DataFrame"
      ]
    },
    {
      "cell_type": "code",
      "metadata": {},
      "source": [
        "df = pd.DataFrame(parsed_data)\n",
        "df.head"
      ],
      "execution_count": null,
      "outputs": []
    },
    {
      "cell_type": "markdown",
      "metadata": {},
      "source": [
        "We can now save the data to a CSV file... lets write a function to do that."
      ]
    },
    {
      "cell_type": "code",
      "metadata": {},
      "source": [
        "def save_to_csv(data, filename):\n",
        "    df = pd.DataFrame([data])\n",
        "    df.to_csv(filename, index=False)\n",
        "\n",
        "save_to_csv(parsed_data, 'data/raw/weather_data.csv')"
      ],
      "execution_count": null,
      "outputs": []
    },
    {
      "cell_type": "markdown",
      "metadata": {},
      "source": [
        "### Read and Display the CSV File"
      ]
    },
    {
      "cell_type": "code",
      "metadata": {},
      "source": [
        "df = pd.read_csv('data/raw/weather_data.csv')\n",
        "df"
      ],
      "execution_count": null,
      "outputs": []
    },
    {
      "cell_type": "markdown",
      "metadata": {},
      "source": [
        "## 5. Error Handling\n",
        "It's important to handle errors that may occur during API requests. We've already added basic error handling in the `fetch_weather_data` function. Let's test it with an invalid location.\n",
        "\n",
        "### Test Error Handling"
      ]
    },
    {
      "cell_type": "code",
      "metadata": {},
      "source": [
        "invalid_location = 'InvalidCity'\n",
        "invalid_data = fetch_weather_data(api_key, invalid_location)\n",
        "invalid_data"
      ],
      "execution_count": null,
      "outputs": []
    },
    {
      "cell_type": "markdown",
      "metadata": {},
      "source": [
        "## Homework\n",
        "- Experiment with fetching weather data for different cities.\n",
        "- Explore the OpenWeatherMap API documentation to see what other data you can fetch.\n",
        "\n",
        "## Summary\n",
        "In this session, we learned how to fetch weather data from the OpenWeatherMap API, parse the JSON response, and save the data to a CSV file. We also covered basic error handling to manage failed API requests.\n",
        "\n",
        "Next session, we will focus on managing data with CSV and SQL."
      ]
    }
  ],
  "metadata": {
    "kernelspec": {
      "display_name": "Python 3",
      "language": "python",
      "name": "python3"
    }
  },
  "nbformat": 4,
  "nbformat_minor": 4
}