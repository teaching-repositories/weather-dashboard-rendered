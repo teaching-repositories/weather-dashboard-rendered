{
  "cells": [
    {
      "cell_type": "raw",
      "metadata": {},
      "source": [
        "---\n",
        "title: \"WeatherVista Project - Session 6b: Creating a GUI with Tkinter\"\n",
        "execute: \n",
        "  enabled: false\n",
        "---"
      ]
    },
    {
      "cell_type": "markdown",
      "metadata": {},
      "source": [
        "## Objectives\n",
        "- Learn how to create a graphical user interface (GUI) for the WeatherVista project.\n",
        "- Understand the basics of Tkinter for building desktop applications.\n",
        "- Explore using Tkinter Widgets for interactive elements in a GUI.\n",
        "\n",
        "## 1. Introduction to Tkinter\n",
        "Tkinter is a standard Python library for creating desktop GUIs. It provides various widgets to build interactive applications.\n",
        "\n",
        "### Import Required Libraries"
      ]
    },
    {
      "cell_type": "code",
      "metadata": {},
      "source": [
        "import tkinter as tk\n",
        "from tkinter import ttk\n",
        "import pandas as pd"
      ],
      "execution_count": null,
      "outputs": []
    },
    {
      "cell_type": "markdown",
      "metadata": {},
      "source": [
        "## 2. Creating a Basic Tkinter Window\n",
        "We'll start by creating a basic Tkinter window."
      ]
    },
    {
      "cell_type": "code",
      "metadata": {},
      "source": [
        "def create_window():\n",
        "    window = tk.Tk()\n",
        "    window.title(\"WeatherVista Dashboard\")\n",
        "    window.geometry(\"600x400\")\n",
        "    \n",
        "    # Add a label\n",
        "    label = ttk.Label(window, text=\"WeatherVista Dashboard\", font=(\"Arial\", 16))\n",
        "    label.pack(pady=20)\n",
        "    \n",
        "    window.mainloop()\n",
        "\n",
        "create_window()"
      ],
      "execution_count": null,
      "outputs": []
    },
    {
      "cell_type": "markdown",
      "metadata": {},
      "source": [
        "## 3. Adding Widgets to the Tkinter Window\n",
        "We'll add various widgets such as labels, buttons, and entry fields to the Tkinter window.\n",
        "\n",
        "### Adding Entry Fields and Buttons"
      ]
    },
    {
      "cell_type": "code",
      "metadata": {},
      "source": [
        "def create_window():\n",
        "    def fetch_weather():\n",
        "        location = location_entry.get()\n",
        "        # Fetch and display weather data for the entered location\n",
        "        # This is a placeholder function, replace with actual data fetching logic\n",
        "        weather_data_label.config(text=f\"Weather data for {location}\")\n",
        "\n",
        "    window = tk.Tk()\n",
        "    window.title(\"WeatherVista Dashboard\")\n",
        "    window.geometry(\"600x400\")\n",
        "    \n",
        "    # Add a label\n",
        "    label = ttk.Label(window, text=\"WeatherVista Dashboard\", font=(\"Arial\", 16))\n",
        "    label.pack(pady=20)\n",
        "    \n",
        "    # Add entry field for location\n",
        "    location_label = ttk.Label(window, text=\"Enter Location:\")\n",
        "    location_label.pack(pady=5)\n",
        "    location_entry = ttk.Entry(window)\n",
        "    location_entry.pack(pady=5)\n",
        "    \n",
        "    # Add a button to fetch weather data\n",
        "    fetch_button = ttk.Button(window, text=\"Fetch Weather\", command=fetch_weather)\n",
        "    fetch_button.pack(pady=10)\n",
        "    \n",
        "    # Add a label to display weather data\n",
        "    weather_data_label = ttk.Label(window, text=\"\", font=(\"Arial\", 12))\n",
        "    weather_data_label.pack(pady=20)\n",
        "    \n",
        "    window.mainloop()\n",
        "\n",
        "create_window()"
      ],
      "execution_count": null,
      "outputs": []
    },
    {
      "cell_type": "markdown",
      "metadata": {},
      "source": [
        "## 4. Displaying Data in Tkinter\n",
        "We'll fetch and display weather data in the Tkinter window.\n",
        "\n",
        "### Fetching and Displaying Weather Data"
      ]
    },
    {
      "cell_type": "code",
      "metadata": {},
      "source": [
        "import requests\n",
        "\n",
        "def fetch_weather_data(api_key, location):\n",
        "    url = f\"http://api.openweathermap.org/data/2.5/weather?q={location}&appid={api_key}\"\n",
        "    response = requests.get(url)\n",
        "    if response.status_code == 200:\n",
        "        data = response.json()\n",
        "        weather_info = {\n",
        "            \"Location\": data[\"name\"],\n",
        "            \"Temperature (C)\": data[\"main\"][\"temp\"] - 273.15,\n",
        "            \"Humidity (%)\": data[\"main\"][\"humidity\"],\n",
        "            \"Weather\": data[\"weather\"][0][\"description\"]\n",
        "        }\n",
        "        return weather_info\n",
        "    else:\n",
        "        return None\n",
        "\n",
        "def create_window():\n",
        "    def fetch_weather():\n",
        "        location = location_entry.get()\n",
        "        weather_data = fetch_weather_data(api_key, location)\n",
        "        if weather_data:\n",
        "            weather_info = f\"Location: {weather_data['Location']}\\n\"\n",
        "            weather_info += f\"Temperature: {weather_data['Temperature (C)']:.2f} °C\\n\"\n",
        "            weather_info += f\"Humidity: {weather_data['Humidity (%)']}%\\n\"\n",
        "            weather_info += f\"Weather: {weather_data['Weather']}\"\n",
        "            weather_data_label.config(text=weather_info)\n",
        "        else:\n",
        "            weather_data_label.config(text=\"Failed to fetch data\")\n",
        "\n",
        "    window = tk.Tk()\n",
        "    window.title(\"WeatherVista Dashboard\")\n",
        "    window.geometry(\"600x400\")\n",
        "    \n",
        "    api_key = 'your_api_key_here'\n",
        "    \n",
        "    # Add a label\n",
        "    label = ttk.Label(window, text=\"WeatherVista Dashboard\", font=(\"Arial\", 16))\n",
        "    label.pack(pady=20)\n",
        "    \n",
        "    # Add entry field for location\n",
        "    location_label = ttk.Label(window, text=\"Enter Location:\")\n",
        "    location_label.pack(pady=5)\n",
        "    location_entry = ttk.Entry(window)\n",
        "    location_entry.pack(pady=5)\n",
        "    \n",
        "    # Add a button to fetch weather data\n",
        "    fetch_button = ttk.Button(window, text=\"Fetch Weather\", command=fetch_weather)\n",
        "    fetch_button.pack(pady=10)\n",
        "    \n",
        "    # Add a label to display weather data\n",
        "    weather_data_label = ttk.Label(window, text=\"\", font=(\"Arial\", 12))\n",
        "    weather_data_label.pack(pady=20)\n",
        "    \n",
        "    window.mainloop()\n",
        "\n",
        "create_window()"
      ],
      "execution_count": null,
      "outputs": []
    },
    {
      "cell_type": "markdown",
      "metadata": {},
      "source": [
        "## Homework\n",
        "- Experiment with adding more widgets and interactivity to the Tkinter or Jupyter Widgets dashboard.\n",
        "- Customise the layout and design of the GUI to improve user experience.\n",
        "\n",
        "## Summary\n",
        "In this session, we learned how to create a graphical user interface (GUI) for the WeatherVista project using Tkinter and Jupyter Widgets. We created interactive elements to fetch and display weather data, providing a more engaging user experience.\n",
        "\n",
        "Next session, we will focus on writing and running tests with pytest and doctest."
      ]
    }
  ],
  "metadata": {
    "kernelspec": {
      "display_name": "Python 3",
      "language": "python",
      "name": "python3"
    }
  },
  "nbformat": 4,
  "nbformat_minor": 4
}