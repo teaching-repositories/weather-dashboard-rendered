{
  "cells": [
    {
      "cell_type": "raw",
      "metadata": {},
      "source": [
        "---\n",
        "title: \"WeatherVista Project - REVIEW Session 2: Data Review and Fetching\"\n",
        "execute: \n",
        "  enabled: false\n",
        "---"
      ]
    },
    {
      "cell_type": "markdown",
      "metadata": {},
      "source": [
        "#### Objectives\n",
        "- Learn how to fetch weather forecast data using the OpenWeatherMap API.\n",
        "- Understand how to process and save the fetched data.\n",
        "- Review the structure and content of the raw and processed data.\n",
        "- Calculate daily weather statistics from forecast data.\n",
        "\n",
        "#### 1. Introduction to Data Fetching\n",
        "In this session, we will fetch weather forecast data from the OpenWeatherMap API and process it for analysis.\n",
        "\n",
        "##### Import Required Libraries"
      ]
    },
    {
      "cell_type": "code",
      "metadata": {},
      "source": [
        "import requests\n",
        "import pandas as pd"
      ],
      "execution_count": null,
      "outputs": []
    },
    {
      "cell_type": "markdown",
      "metadata": {},
      "source": [
        "##### Set Up API Key and City\n",
        "Replace the placeholder with your own OpenWeatherMap API key."
      ]
    },
    {
      "cell_type": "code",
      "metadata": {},
      "source": [
        "# Replace with your OpenWeatherMap API key\n",
        "API_KEY = 'YOUR_API_KEY'\n",
        "city = 'London'"
      ],
      "execution_count": null,
      "outputs": []
    },
    {
      "cell_type": "markdown",
      "metadata": {},
      "source": [
        "#### 2. Fetching Weather Forecast Data\n",
        "We will define a function to fetch the 5-day weather forecast data for a specified city.\n",
        "\n",
        "##### Define Function to Fetch Data"
      ]
    },
    {
      "cell_type": "code",
      "metadata": {},
      "source": [
        "# Function to fetch data from the given URL and return JSON\n",
        "def fetch_data(url):\n",
        "    response = requests.get(url)\n",
        "    data = response.json()\n",
        "    if response.status_code != 200:\n",
        "        print(f\"Error fetching data: {data}\")\n",
        "        return None\n",
        "    return data"
      ],
      "execution_count": null,
      "outputs": []
    },
    {
      "cell_type": "markdown",
      "metadata": {},
      "source": [
        "##### Fetch Data"
      ]
    },
    {
      "cell_type": "code",
      "metadata": {},
      "source": [
        "# Fetch current weather data\n",
        "current_url = f'http://api.openweathermap.org/data/2.5/weather?q={city}&appid={API_KEY}'\n",
        "current_data = fetch_data(current_url)\n",
        "\n",
        "# Fetch 5-day forecast data\n",
        "forecast_url = f'http://api.openweathermap.org/data/2.5/forecast?q={city}&appid={API_KEY}'\n",
        "forecast_data = fetch_data(forecast_url)"
      ],
      "execution_count": null,
      "outputs": []
    },
    {
      "cell_type": "markdown",
      "metadata": {},
      "source": [
        "#### 3. Processing and Saving Data\n",
        "We will process the fetched data to extract relevant information and save it in CSV format.\n",
        "\n",
        "##### Parse Weather Data"
      ]
    },
    {
      "cell_type": "code",
      "metadata": {},
      "source": [
        "# Function to parse a single weather entry into a dictionary\n",
        "def parse_weather(entry):\n",
        "    if entry is None:\n",
        "        return None\n",
        "    return {\n",
        "        'Datetime': pd.to_datetime(entry['dt'], unit='s'),\n",
        "        'Temperature (C)': entry['main']['temp'] - 273.15,\n",
        "        'Humidity (%)': entry['main']['humidity'],\n",
        "        'Wind Speed (m/s)': entry['wind']['speed'],\n",
        "        'Weather': entry['weather'][0]['description']\n",
        "    }"
      ],
      "execution_count": null,
      "outputs": []
    },
    {
      "cell_type": "markdown",
      "metadata": {},
      "source": [
        "##### Extract and Process Data"
      ]
    },
    {
      "cell_type": "code",
      "metadata": {},
      "source": [
        "# Process current weather data\n",
        "current_weather = parse_weather(current_data)\n",
        "\n",
        "# Process forecast weather data\n",
        "forecast_weather = [parse_weather(entry) for entry in forecast_data['list']]"
      ],
      "execution_count": null,
      "outputs": []
    },
    {
      "cell_type": "markdown",
      "metadata": {},
      "source": [
        "##### Save Data to CSV"
      ]
    },
    {
      "cell_type": "code",
      "metadata": {},
      "source": [
        "# Function to save a list of dictionaries to a CSV file\n",
        "def save_to_csv(data, filename):\n",
        "    if data is None or not data:\n",
        "        print(f\"No data to save for {filename}\")\n",
        "        return\n",
        "    df = pd.DataFrame(data)\n",
        "    df.to_csv(filename, index=False)\n",
        "    print(f\"{filename} saved\")\n",
        "\n",
        "# Save current weather data to CSV\n",
        "save_to_csv([current_weather], '../data/processed/current_weather_data.csv')\n",
        "\n",
        "# Save forecast weather data to CSV\n",
        "save_to_csv(forecast_weather, '../data/processed/hourly_weather_data.csv')"
      ],
      "execution_count": null,
      "outputs": []
    },
    {
      "cell_type": "markdown",
      "metadata": {},
      "source": [
        "##### Calculate Daily Statistics"
      ]
    },
    {
      "cell_type": "code",
      "metadata": {},
      "source": [
        "# Function to calculate daily min and max stats from forecast data\n",
        "def calculate_daily_stats(forecast_data):\n",
        "    if forecast_data is None or not forecast_data:\n",
        "        return None\n",
        "    \n",
        "    # Convert the list of dictionaries to a DataFrame\n",
        "    df_forecast = pd.DataFrame(forecast_data)\n",
        "    \n",
        "    # Extract the date from the 'Datetime' column and create a new 'Date' column\n",
        "    df_forecast['Date'] = df_forecast['Datetime'].dt.date\n",
        "\n",
        "    # Group the data by the 'Date' column and calculate the min and max for each group\n",
        "    daily_stats = df_forecast.groupby('Date').agg({\n",
        "        'Temperature (C)': ['min', 'max'],\n",
        "        'Humidity (%)': ['min', 'max'],\n",
        "        'Wind Speed (m/s)': ['min', 'max']\n",
        "    })\n",
        "\n",
        "    # Flatten the MultiIndex columns\n",
        "    daily_stats.columns = ['Min Temperature (C)', 'Max Temperature (C)', \n",
        "                           'Min Humidity (%)', 'Max Humidity (%)', \n",
        "                           'Min Wind Speed (m/s)', 'Max Wind Speed (m/s)']\n",
        "    \n",
        "    # Reset the index to turn the 'Date' back into a column\n",
        "    daily_stats.reset_index(inplace=True)\n",
        "    \n",
        "    return daily_stats\n",
        "\n",
        "# Calculate and save daily statistics to CSV\n",
        "daily_stats = calculate_daily_stats(forecast_weather)\n",
        "save_to_csv(daily_stats, '../data/processed/daily_weather_stats.csv')"
      ],
      "execution_count": null,
      "outputs": []
    },
    {
      "cell_type": "markdown",
      "metadata": {},
      "source": [
        "#### 4. Reviewing the Data\n",
        "We will review the structure and content of the raw and processed data to ensure it is correctly fetched and processed.\n",
        "\n",
        "##### Display the First Few Rows of Raw Data"
      ]
    },
    {
      "cell_type": "code",
      "metadata": {},
      "source": [
        "df_raw = pd.read_csv('../data/processed/hourly_weather_data.csv')\n",
        "df_raw.head()"
      ],
      "execution_count": null,
      "outputs": []
    },
    {
      "cell_type": "markdown",
      "metadata": {},
      "source": [
        "##### Display the First Few Rows of Processed Data"
      ]
    },
    {
      "cell_type": "code",
      "metadata": {},
      "source": [
        "df_processed = pd.read_csv('../data/processed/daily_weather_stats.csv')\n",
        "df_processed.head()"
      ],
      "execution_count": null,
      "outputs": []
    },
    {
      "cell_type": "markdown",
      "metadata": {},
      "source": [
        "#### Homework\n",
        "- Experiment with fetching data for different cities and review the structure of the fetched data.\n",
        "- Extend the data processing to include additional weather parameters if available.\n",
        "\n",
        "#### Summary\n",
        "In this session, we learned how to fetch weather forecast data using the OpenWeatherMap API. We processed the data to convert temperature values from Kelvin to Celsius and saved both raw and processed data to CSV files. We also calculated daily weather statistics, preparing us for further analysis and visualization in upcoming sessions."
      ]
    }
  ],
  "metadata": {
    "kernelspec": {
      "display_name": "Python 3",
      "language": "python",
      "name": "python3"
    }
  },
  "nbformat": 4,
  "nbformat_minor": 4
}