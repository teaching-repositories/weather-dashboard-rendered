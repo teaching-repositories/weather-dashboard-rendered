{
  "cells": [
    {
      "cell_type": "raw",
      "metadata": {},
      "source": [
        "---\n",
        "title: \"WeatherVista Project - Session 4: Advanced Data Visualisation with Subplots and Grids\"\n",
        "execute: \n",
        "  enabled: false\n",
        "---"
      ]
    },
    {
      "cell_type": "markdown",
      "metadata": {},
      "source": [
        "## Objectives\n",
        "- Learn how to create advanced visualisations using subplots and grids.\n",
        "- Understand how to combine multiple plots into a single figure.\n",
        "- Customise the layout and presentation of complex visualisations.\n",
        "\n",
        "\n",
        "## 1. Introduction to Advanced Visualisation\n",
        "Advanced visualisations can provide more insights by combining multiple plots into a single figure, allowing for easier comparison and analysis.\n",
        "\n",
        "### Import Required Libraries"
      ]
    },
    {
      "cell_type": "code",
      "metadata": {},
      "source": [
        "import pandas as pd\n",
        "import matplotlib.pyplot as plt\n",
        "import numpy as np"
      ],
      "execution_count": null,
      "outputs": []
    },
    {
      "cell_type": "markdown",
      "metadata": {},
      "source": [
        "## 2. Reading Data\n",
        "We’ll start by reading the processed weather data from the CSV file."
      ]
    },
    {
      "cell_type": "code",
      "metadata": {},
      "source": [
        "df = pd.read_csv('processed_weather_data.csv')\n",
        "df['Datetime'] = pd.to_datetime(df['Datetime'])\n",
        "df.head()"
      ],
      "execution_count": null,
      "outputs": []
    },
    {
      "cell_type": "markdown",
      "metadata": {},
      "source": [
        "## 3. Creating Subplots\n",
        "Subplots allow us to create multiple plots within a single figure.\n",
        "\n",
        "### Creating a 2x2 Grid of Plots\n",
        "We’ll create a 2x2 grid of plots to visualise different aspects of the weather data."
      ]
    },
    {
      "cell_type": "code",
      "metadata": {},
      "source": [
        "# Select every 6th datetime value for x-ticks\n",
        "x_ticks = df['Datetime'][::6]\n",
        "\n",
        "fig, axs = plt.subplots(2, 2, figsize=(14, 10))\n",
        "\n",
        "# Plot 1: Line plot for Temperature over Time\n",
        "axs[0, 0].plot(df['Datetime'], df['Temperature (C)'], marker='o')\n",
        "axs[0, 0].set_title('Temperature over Time')\n",
        "axs[0, 0].set_xlabel('Datetime')\n",
        "axs[0, 0].set_ylabel('Temperature (°C)')\n",
        "axs[0, 0].set_xticks(x_ticks)\n",
        "axs[0, 0].tick_params(axis='x', rotation=45)\n",
        "\n",
        "# Add line of best fit for Temperature over Time\n",
        "s = np.polyfit(df['Datetime'].astype(np.int64) // 10**9, df['Temperature (C)'], 1)\n",
        "p = np.poly1d(s)\n",
        "axs[0, 0].plot(df['Datetime'], p(df['Datetime'].astype(np.int64) // 10**9), \"r--\")\n",
        "\n",
        "# Plot 2: Bar plot for Humidity over Time\n",
        "axs[0, 1].bar(df['Datetime'], df['Humidity (%)'], color='skyblue')\n",
        "axs[0, 1].set_title('Humidity over Time')\n",
        "axs[0, 1].set_xlabel('Datetime')\n",
        "axs[0, 1].set_ylabel('Humidity (%)')\n",
        "axs[0, 1].set_xticks(x_ticks)\n",
        "axs[0, 1].tick_params(axis='x', rotation=45)\n",
        "\n",
        "# Plot 3: Pie chart for Weather Description\n",
        "weather_counts = df['Weather'].value_counts()\n",
        "axs[1, 0].pie(weather_counts, labels=weather_counts.index, autopct='%1.1f%%', startangle=140)\n",
        "axs[1, 0].set_title('Weather Description Distribution')\n",
        "axs[1, 0].axis('equal')  # Equal aspect ratio ensures that pie is drawn as a circle.\n",
        "\n",
        "# Plot 4: Scatter plot for Temperature vs. Wind Speed\n",
        "axs[1, 1].scatter(df['Temperature (C)'], df['Wind Speed (m/s)'], c='g', marker='o')\n",
        "axs[1, 1].set_title('Temperature vs. Wind Speed')\n",
        "axs[1, 1].set_xlabel('Temperature (°C)')\n",
        "axs[1, 1].set_ylabel('Wind Speed (m/s)')\n",
        "axs[1, 1].grid(True)\n",
        "\n",
        "# Add line of best fit for Temperature vs. Wind Speed\n",
        "s = np.polyfit(df['Temperature (C)'], df['Wind Speed (m/s)'], 1)\n",
        "p = np.poly1d(s)\n",
        "axs[1, 1].plot(df['Temperature (C)'], p(df['Temperature (C)']), \"r--\")\n",
        "\n",
        "# Adjust layout\n",
        "plt.tight_layout()\n",
        "plt.show()"
      ],
      "execution_count": null,
      "outputs": []
    },
    {
      "cell_type": "markdown",
      "metadata": {},
      "source": [
        "## 4. Customising Subplots\n",
        "Customising subplots can enhance their readability and presentation.\n",
        "\n",
        "### Adding Annotations"
      ]
    },
    {
      "cell_type": "code",
      "metadata": {},
      "source": [
        "fig, ax = plt.subplots(figsize=(10, 6))\n",
        "ax.plot(df['Datetime'], df['Temperature (C)'], marker='o')\n",
        "ax.set_title('Temperature over Time')\n",
        "ax.set_xlabel('Datetime')\n",
        "ax.set_ylabel('Temperature (°C)')\n",
        "ax.set_xticks(x_ticks)\n",
        "ax.tick_params(axis='x', rotation=45)\n",
        "ax.grid(True)\n",
        "\n",
        "# Annotate the highest temperature\n",
        "max_temp = df['Temperature (C)'].max()\n",
        "max_temp_time = df.loc[df['Temperature (C)'] == max_temp, 'Datetime'].iloc[0]\n",
        "ax.annotate(f'Max Temp: {max_temp:.2f}°C', xy=(max_temp_time, max_temp), \n",
        "             xytext=(max_temp_time, max_temp+2), \n",
        "             arrowprops=dict(facecolor='black', shrink=0.05))\n",
        "\n",
        "plt.show()"
      ],
      "execution_count": null,
      "outputs": []
    },
    {
      "cell_type": "markdown",
      "metadata": {},
      "source": [
        "### Customising Colors and Styles"
      ]
    },
    {
      "cell_type": "code",
      "metadata": {},
      "source": [
        "fig, ax = plt.subplots(figsize=(10, 6))\n",
        "ax.plot(df['Datetime'], df['Temperature (C)'], marker='o', linestyle='--', color='b')\n",
        "ax.set_title('Temperature over Time', fontsize=14, fontweight='bold')\n",
        "ax.set_xlabel('Datetime', fontsize=12)\n",
        "ax.set_ylabel('Temperature (°C)', fontsize=12)\n",
        "ax.set_xticks(x_ticks)\n",
        "ax.tick_params(axis='x', rotation=45)\n",
        "ax.grid(True, linestyle='--', linewidth=0.5)\n",
        "\n",
        "plt.show()"
      ],
      "execution_count": null,
      "outputs": []
    },
    {
      "cell_type": "markdown",
      "metadata": {},
      "source": [
        "## Homework\n",
        "- Create additional subplots to visualise other aspects of the weather data (e.g., wind speed, pressure).\n",
        "- Experiment with different types of subplots and customisations to enhance the visualisations.\n",
        "\n",
        "## Summary\n",
        "In this session, we learned how to visualise weather data using advanced techniques in Matplotlib. We created subplots and grids, combined multiple plots into a single figure, and customised these plots for better presentation."
      ]
    }
  ],
  "metadata": {
    "kernelspec": {
      "display_name": "Python 3",
      "language": "python",
      "name": "python3"
    }
  },
  "nbformat": 4,
  "nbformat_minor": 4
}