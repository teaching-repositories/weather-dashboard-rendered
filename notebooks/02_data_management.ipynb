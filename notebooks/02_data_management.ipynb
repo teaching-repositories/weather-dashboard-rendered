{
  "cells": [
    {
      "cell_type": "raw",
      "metadata": {},
      "source": [
        "---\n",
        "title: \"WeatherVista Project - Session 2: Data Management with CSV and SQL\"\n",
        "execute: \n",
        "  enabled: false\n",
        "---"
      ]
    },
    {
      "cell_type": "markdown",
      "metadata": {},
      "source": [
        "## Objectives\n",
        "- Learn how to manage weather data using CSV files.\n",
        "- Understand how to use SQL to store and retrieve weather data.\n",
        "- Practice reading, writing, and processing data with pandas and SQLite.\n",
        "\n",
        "## 1. Managing Data with CSV Files\n",
        "CSV (Comma-Separated Values) is a simple and widely used format for storing tabular data.\n",
        "\n",
        "### Import Required Libraries"
      ]
    },
    {
      "cell_type": "code",
      "metadata": {},
      "source": [
        "import pandas as pd"
      ],
      "execution_count": null,
      "outputs": []
    },
    {
      "cell_type": "markdown",
      "metadata": {},
      "source": [
        "### Reading Data from a CSV File\n",
        "We'll read the weather data we saved in the previous session."
      ]
    },
    {
      "cell_type": "code",
      "metadata": {},
      "source": [
        "df = pd.read_csv('data/raw/weather_data.csv')\n",
        "df"
      ],
      "execution_count": null,
      "outputs": []
    },
    {
      "cell_type": "markdown",
      "metadata": {},
      "source": [
        "### Processing Data\n",
        "Let's process the data by converting the temperature from Kelvin to Celsius."
      ]
    },
    {
      "cell_type": "code",
      "metadata": {},
      "source": [
        "def convert_temp_kelvin_to_celsius(temp_k):\n",
        "    return temp_k - 273.15\n",
        "\n",
        "df['Temperature (C)'] = df['Temperature (K)'].apply(convert_temp_kelvin_to_celsius)\n",
        "df.drop(columns=['Temperature (K)'], inplace=True)\n",
        "df"
      ],
      "execution_count": null,
      "outputs": []
    },
    {
      "cell_type": "markdown",
      "metadata": {},
      "source": [
        "### Writing Data to a CSV File\n",
        "We'll save the processed data to a new CSV file."
      ]
    },
    {
      "cell_type": "code",
      "metadata": {},
      "source": [
        "df.to_csv('data/processed/processed_weather_data.csv', index=False)"
      ],
      "execution_count": null,
      "outputs": []
    },
    {
      "cell_type": "markdown",
      "metadata": {},
      "source": [
        "## 2. Managing Data with SQL\n",
        "SQL (Structured Query Language) is a powerful tool for managing and querying data stored in relational databases.\n",
        "\n",
        "### Import Required Libraries"
      ]
    },
    {
      "cell_type": "code",
      "metadata": {},
      "source": [
        "import sqlite3"
      ],
      "execution_count": null,
      "outputs": []
    },
    {
      "cell_type": "markdown",
      "metadata": {},
      "source": [
        "### Creating a SQLite Database and Table\n",
        "We'll create a SQLite database and a table to store the weather data."
      ]
    },
    {
      "cell_type": "code",
      "metadata": {},
      "source": [
        "conn = sqlite3.connect('data/weather_data.db')\n",
        "cursor = conn.cursor()\n",
        "\n",
        "cursor.execute('''\n",
        "    CREATE TABLE IF NOT EXISTS weather (\n",
        "        location TEXT,\n",
        "        temperature_c REAL,\n",
        "        humidity INTEGER,\n",
        "        weather_description TEXT\n",
        "    )\n",
        "''')\n",
        "conn.commit()"
      ],
      "execution_count": null,
      "outputs": []
    },
    {
      "cell_type": "markdown",
      "metadata": {},
      "source": [
        "### Inserting Data into the Table\n",
        "We'll insert the processed weather data into the SQLite table."
      ]
    },
    {
      "cell_type": "code",
      "metadata": {},
      "source": [
        "for index, row in df.iterrows():\n",
        "    cursor.execute('''\n",
        "        INSERT INTO weather (location, temperature_c, humidity, weather_description)\n",
        "        VALUES (?, ?, ?, ?)\n",
        "    ''', (row['Location'], row['Temperature (C)'], row['Humidity (%)'], row['Weather']))\n",
        "conn.commit()"
      ],
      "execution_count": null,
      "outputs": []
    },
    {
      "cell_type": "markdown",
      "metadata": {},
      "source": [
        "### Querying Data from the Table\n",
        "We'll query the data we just inserted into the SQLite table."
      ]
    },
    {
      "cell_type": "code",
      "metadata": {},
      "source": [
        "cursor.execute('SELECT * FROM weather')\n",
        "rows = cursor.fetchall()\n",
        "for row in rows:\n",
        "    print(row)"
      ],
      "execution_count": null,
      "outputs": []
    },
    {
      "cell_type": "markdown",
      "metadata": {},
      "source": [
        "### Converting SQL Query Results to DataFrame\n",
        "We'll convert the query results to a pandas DataFrame for easier manipulation and visualization."
      ]
    },
    {
      "cell_type": "code",
      "metadata": {},
      "source": [
        "df_sql = pd.DataFrame(rows, columns=['Location', 'Temperature (C)', 'Humidity (%)', 'Weather'])\n",
        "df_sql"
      ],
      "execution_count": null,
      "outputs": []
    },
    {
      "cell_type": "markdown",
      "metadata": {},
      "source": [
        "## 3. Combining CSV and SQL Data Management\n",
        "We'll demonstrate how to combine CSV and SQL data management techniques.\n",
        "\n",
        "### Reading Data from CSV and Inserting into SQL\n",
        "We'll read additional weather data from a CSV file and insert it into the SQLite table."
      ]
    },
    {
      "cell_type": "code",
      "metadata": {},
      "source": [
        "additional_data = pd.read_csv('data/raw/additional_weather_data.csv')\n",
        "for index, row in additional_data.iterrows():\n",
        "    cursor.execute('''\n",
        "        INSERT INTO weather (location, temperature_c, humidity, weather_description)\n",
        "        VALUES (?, ?, ?, ?)\n",
        "    ''', (row['Location'], row['Temperature (C)'], row['Humidity (%)'], row['Weather']))\n",
        "conn.commit()"
      ],
      "execution_count": null,
      "outputs": []
    },
    {
      "cell_type": "markdown",
      "metadata": {},
      "source": [
        "### Querying Combined Data\n",
        "We'll query the combined data from the SQLite table."
      ]
    },
    {
      "cell_type": "code",
      "metadata": {},
      "source": [
        "cursor.execute('SELECT * FROM weather')\n",
        "combined_rows = cursor.fetchall()\n",
        "df_combined = pd.DataFrame(combined_rows, columns=['Location', 'Temperature (C)', 'Humidity (%)', 'Weather'])\n",
        "df_combined"
      ],
      "execution_count": null,
      "outputs": []
    },
    {
      "cell_type": "markdown",
      "metadata": {},
      "source": [
        "## Homework\n",
        "- Practice reading and writing data to CSV files with different weather datasets.\n",
        "- Explore additional SQL queries to retrieve specific subsets of the weather data.\n",
        "\n",
        "## Summary\n",
        "In this session, we learned how to manage weather data using CSV files and SQL. We practiced reading, writing, and processing data with pandas and SQLite, and we combined both techniques to manage our weather data effectively.\n",
        "\n",
        "Next session, we will focus on basic data visualization with Matplotlib."
      ]
    }
  ],
  "metadata": {
    "kernelspec": {
      "display_name": "Python 3",
      "language": "python",
      "name": "python3"
    }
  },
  "nbformat": 4,
  "nbformat_minor": 4
}