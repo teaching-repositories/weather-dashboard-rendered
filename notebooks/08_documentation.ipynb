{
  "cells": [
    {
      "cell_type": "raw",
      "metadata": {},
      "source": [
        "---\n",
        "title: \"Creating Documentation with MkDocs\"\n",
        "execute: \n",
        "  enabled: false\n",
        "---"
      ]
    },
    {
      "cell_type": "markdown",
      "metadata": {},
      "source": [
        "## Objectives\n",
        "- Learn how to install and set up MkDocs.\n",
        "- Use `mkdocstrings` to auto-generate documentation from docstrings.\n",
        "- Build and serve the documentation locally.\n",
        "\n",
        "## 1. Installing MkDocs and mkdocstrings\n",
        "\n",
        "First, you need to install MkDocs, `mkdocstrings`, and `mkdocstrings-python`. You can do this using pip."
      ]
    },
    {
      "cell_type": "code",
      "metadata": {},
      "source": [
        "!pip install mkdocs mkdocstrings mkdocstrings-python"
      ],
      "execution_count": null,
      "outputs": []
    },
    {
      "cell_type": "markdown",
      "metadata": {},
      "source": [
        "## 2. Initializing an MkDocs Project\n",
        "\n",
        "Navigate to the root directory of your overall project and initialize a new MkDocs project."
      ]
    },
    {
      "cell_type": "code",
      "metadata": {},
      "source": [
        "import os\n",
        "\n",
        "# Change directory to the root of your overall project\n",
        "os.chdir('..')\n",
        "\n",
        "# Initialize a new MkDocs project in the root directory\n",
        "!mkdocs new .\n",
        "\n",
        "# Verify the current working directory (should be the root of your overall project)\n",
        "os.getcwd()"
      ],
      "execution_count": null,
      "outputs": []
    },
    {
      "cell_type": "markdown",
      "metadata": {},
      "source": [
        "## 3. Configuring MkDocs\n",
        "\n",
        "Edit the `mkdocs.yml` configuration file to include the `mkdocstrings` plugin and configure it to document your scripts."
      ]
    },
    {
      "cell_type": "code",
      "metadata": {},
      "source": [
        "# Create a new mkdocs.yml content\n",
        "mkdocs_yml_content = \"\"\"\n",
        "site_name: My Project Documentation\n",
        "\n",
        "nav:\n",
        "    - Home: index.md\n",
        "    - API Reference:\n",
        "        - fetch_data: scripts/fetch_data\n",
        "        - process_data: scripts/process_data\n",
        "\n",
        "plugins:\n",
        "    - search\n",
        "    - mkdocstrings:\n",
        "        handlers:\n",
        "            python:\n",
        "                setup_commands:\n",
        "                    - pip install mkdocstrings-python\n",
        "\n",
        "extra_javascript:\n",
        "  - pythonpath.js\n",
        "\n",
        "# Paths to the documentation files\n",
        "docs_dir: docs\n",
        "site_dir: site\n",
        "\"\"\"\n",
        "\n",
        "# Write the content to mkdocs.yml\n",
        "with open('mkdocs.yml', 'w') as file:\n",
        "    file.write(mkdocs_yml_content)"
      ],
      "execution_count": null,
      "outputs": []
    },
    {
      "cell_type": "markdown",
      "metadata": {},
      "source": [
        "## 4. Creating `pythonpath.js` to Set `PYTHONPATH`\n",
        "\n",
        "Create a `pythonpath.js` file in the `docs` directory to set the `PYTHONPATH` environment variable.\n",
        "\n",
        "### pythonpath.js"
      ]
    },
    {
      "cell_type": "code",
      "metadata": {},
      "source": [
        "pythonpath_js_content = \"\"\"\n",
        "window.addEventListener('DOMContentLoaded', (event) => {\n",
        "    // Set the PYTHONPATH environment variable\n",
        "    process.env.PYTHONPATH = process.cwd();\n",
        "});\n",
        "\"\"\"\n",
        "\n",
        "# Write the content to pythonpath.js\n",
        "with open('docs/pythonpath.js', 'w') as file:\n",
        "    file.write(pythonpath_js_content)"
      ],
      "execution_count": null,
      "outputs": []
    },
    {
      "cell_type": "markdown",
      "metadata": {},
      "source": [
        "## 5. Writing the `index.md` Page\n",
        "\n",
        "Create the main documentation page (`index.md`) to include the module references.\n",
        "\n",
        "### index.md"
      ]
    },
    {
      "cell_type": "code",
      "metadata": {},
      "source": [
        "index_md_content = \"\"\"\n",
        "# Welcome to My Project Documentation\n",
        "\n",
        "This documentation covers the scripts used in the project.\n",
        "\n",
        "## API Reference\n",
        "\n",
        "### fetch_data\n",
        "\n",
        "::: scripts.fetch_data\n",
        "\n",
        "### process_data\n",
        "\n",
        "::: scripts.process_data\n",
        "\"\"\"\n",
        "\n",
        "# Write the content to index.md\n",
        "with open('docs/index.md', 'w') as file:\n",
        "    file.write(index_md_content)"
      ],
      "execution_count": null,
      "outputs": []
    },
    {
      "cell_type": "markdown",
      "metadata": {},
      "source": [
        "## 6. Building and Serving the Documentation\n",
        "\n",
        "Now, let's build the documentation and serve it locally."
      ]
    },
    {
      "cell_type": "code",
      "metadata": {},
      "source": [
        "# Build the documentation\n",
        "!mkdocs build\n",
        "\n",
        "# Serve the documentation locally\n",
        "!mkdocs serve"
      ],
      "execution_count": null,
      "outputs": []
    },
    {
      "cell_type": "markdown",
      "metadata": {},
      "source": [
        "You can now access the documentation locally at `http://127.0.0.1:8000`.\n",
        "\n",
        "## Summary\n",
        "\n",
        "In this notebook, we learned how to:\n",
        "- Install MkDocs, `mkdocstrings`, and `mkdocstrings-python`.\n",
        "- Initialize an MkDocs project in the root of your overall project.\n",
        "- Configure MkDocs to use `mkdocstrings` for auto-generating documentation.\n",
        "- Set the `PYTHONPATH` to ensure MkDocs can find your scripts.\n",
        "- Create a main documentation page (`index.md`) that includes references to your scripts.\n",
        "- Build and serve the documentation locally."
      ]
    }
  ],
  "metadata": {
    "kernelspec": {
      "display_name": "Python 3",
      "language": "python",
      "name": "python3"
    }
  },
  "nbformat": 4,
  "nbformat_minor": 4
}