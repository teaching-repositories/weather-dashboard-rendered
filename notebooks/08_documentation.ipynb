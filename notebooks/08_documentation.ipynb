{
  "cells": [
    {
      "cell_type": "raw",
      "metadata": {},
      "source": [
        "---\n",
        "title: \"WeatherVista Project - Session 8: Documentating project with mkdocs and doctest\"\n",
        "execute: \n",
        "  enabled: false\n",
        "---"
      ]
    },
    {
      "cell_type": "markdown",
      "metadata": {},
      "source": [
        "### Step-by-Step Guide:\n",
        "\n",
        "1. **Install MkDocs and mkdocstrings:**"
      ]
    },
    {
      "cell_type": "code",
      "metadata": {},
      "source": [
        "!pip install mkdocs mkdocstrings mkdocstrings-python"
      ],
      "execution_count": null,
      "outputs": []
    },
    {
      "cell_type": "markdown",
      "metadata": {},
      "source": [
        "2. **Initialize the MkDocs Project:**"
      ]
    },
    {
      "cell_type": "code",
      "metadata": {},
      "source": [
        "import os\n",
        "\n",
        "# Change directory to the root of your overall project\n",
        "os.chdir('..')\n",
        "\n",
        "# Initialize a new MkDocs project in the root directory\n",
        "!mkdocs new .\n",
        "\n",
        "# Verify the current working directory (should be the root of your overall project)\n",
        "os.getcwd()"
      ],
      "execution_count": null,
      "outputs": []
    },
    {
      "cell_type": "markdown",
      "metadata": {},
      "source": [
        "3. **Update the mkdocs.yml Configuration:**\n",
        "\n",
        "Create a new `mkdocs.yml` content to include the `mkdocstrings` plugin."
      ]
    },
    {
      "cell_type": "code",
      "metadata": {},
      "source": [
        "# Create a new mkdocs.yml content\n",
        "mkdocs_yml_content = \"\"\"\n",
        "site_name: My Project Documentation\n",
        "\n",
        "nav:\n",
        "    - Home: index.md\n",
        "\n",
        "plugins:\n",
        "    - search\n",
        "    - mkdocstrings:\n",
        "        handlers:\n",
        "            python:\n",
        "                setup_commands:\n",
        "                    - pip install mkdocstrings-python\n",
        "\n",
        "# Paths to the documentation files\n",
        "docs_dir: docs\n",
        "site_dir: site\n",
        "\"\"\"\n",
        "\n",
        "# Write the content to mkdocs.yml\n",
        "with open('mkdocs.yml', 'w') as file:\n",
        "    file.write(mkdocs_yml_content)"
      ],
      "execution_count": null,
      "outputs": []
    },
    {
      "cell_type": "markdown",
      "metadata": {},
      "source": [
        "4. **Create the `index.md` Page:**\n",
        "\n",
        "Include the module references directly in the `index.md`.\n",
        "\n",
        "### index.md:"
      ]
    },
    {
      "cell_type": "code",
      "metadata": {},
      "source": [
        "index_md_content = \"\"\"\n",
        "# Welcome to My Project Documentation\n",
        "\n",
        "This documentation covers the scripts used in the project.\n",
        "\n",
        "## API Reference\n",
        "\n",
        "### fetch_data\n",
        "\n",
        "::: scripts.fetch_data\n",
        "\n",
        "### process_data\n",
        "\n",
        "::: scripts.process_data\n",
        "\"\"\"\n",
        "\n",
        "# Write the content to index.md\n",
        "with open('docs/index.md', 'w') as file:\n",
        "    file.write(index_md_content)"
      ],
      "execution_count": null,
      "outputs": []
    },
    {
      "cell_type": "markdown",
      "metadata": {},
      "source": [
        "5. **Ensure `PYTHONPATH` is Set Correctly:**\n",
        "\n",
        "To make sure MkDocs can find your `scripts` directory, set the `PYTHONPATH` environment variable.\n",
        "\n",
        "You can set the `PYTHONPATH` in the terminal or include it in the build command.\n",
        "\n",
        "For example, in your terminal:\n",
        "\n",
        "```bash\n",
        "export PYTHONPATH=$(pwd)\n",
        "```\n",
        "\n",
        "Or include it in the build and serve commands:"
      ]
    },
    {
      "cell_type": "code",
      "metadata": {},
      "source": [
        "# Build the documentation with PYTHONPATH set\n",
        "!mkdocs build\n",
        "\n",
        "# Serve the documentation with PYTHONPATH set\n",
        "!PYTHONPATH=$(pwd) mkdocs serve"
      ],
      "execution_count": null,
      "outputs": []
    },
    {
      "cell_type": "markdown",
      "metadata": {},
      "source": [
        "### Summary\n",
        "\n",
        "In this notebook, we learned how to:\n",
        "- Install MkDocs, `mkdocstrings`, and `mkdocstrings-python`.\n",
        "- Initialize an MkDocs project in the root of your overall project.\n",
        "- Configure MkDocs to use `mkdocstrings` for auto-generating documentation.\n",
        "- Directly include module references in the `index.md` file.\n",
        "- Ensure the `PYTHONPATH` is set correctly so MkDocs can find your scripts.\n",
        "- Build and serve the documentation locally.\n"
      ]
    }
  ],
  "metadata": {
    "kernelspec": {
      "display_name": "Python 3",
      "language": "python",
      "name": "python3"
    }
  },
  "nbformat": 4,
  "nbformat_minor": 4
}