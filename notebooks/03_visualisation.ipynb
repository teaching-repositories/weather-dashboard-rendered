{
  "cells": [
    {
      "cell_type": "raw",
      "metadata": {},
      "source": [
        "---\n",
        "title: \"WeatherVista Project - Session 3: Basic Data Visualisation with Matplotlib and Pandas\"\n",
        "execute: \n",
        "  enabled: false\n",
        "---"
      ]
    },
    {
      "cell_type": "markdown",
      "metadata": {},
      "source": [
        "## Objectives\n",
        "- Learn how to visualise weather data using Matplotlib.\n",
        "- Understand how to create basic plots to represent weather data.\n",
        "- Customise plots to enhance readability and presentation.\n",
        "\n",
        "## 1. Introduction to Basic Visualization\n",
        "Basic visualizations help in understanding data by providing a graphical representation.\n",
        "\n",
        "### Import Required Libraries"
      ]
    },
    {
      "cell_type": "code",
      "metadata": {},
      "source": [
        "import pandas as pd\n",
        "import matplotlib.pyplot as plt"
      ],
      "execution_count": null,
      "outputs": []
    },
    {
      "cell_type": "markdown",
      "metadata": {},
      "source": [
        "## 2. Reading Data\n",
        "We’ll start by reading the processed weather data from the CSV file."
      ]
    },
    {
      "cell_type": "code",
      "metadata": {},
      "source": [
        "df = pd.read_csv('processed_weather_data.csv')\n",
        "df['Datetime'] = pd.to_datetime(df['Datetime'])\n",
        "df.head()"
      ],
      "execution_count": null,
      "outputs": []
    },
    {
      "cell_type": "markdown",
      "metadata": {},
      "source": [
        "## 3. Creating Basic Plots\n",
        "\n",
        "### Line Plot for Temperature Over Time"
      ]
    },
    {
      "cell_type": "code",
      "metadata": {},
      "source": [
        "# Select every 6th datetime value for x-ticks\n",
        "x_ticks = df['Datetime'][::6]\n",
        "\n",
        "plt.figure(figsize=(10, 6))\n",
        "plt.plot(df['Datetime'], df['Temperature (C)'], marker='o')\n",
        "plt.title('Temperature over Time')\n",
        "plt.xlabel('Datetime')\n",
        "plt.ylabel('Temperature (°C)')\n",
        "plt.xticks(ticks=x_ticks, rotation=45)\n",
        "plt.grid(True)\n",
        "plt.show()"
      ],
      "execution_count": null,
      "outputs": []
    },
    {
      "cell_type": "markdown",
      "metadata": {},
      "source": [
        "### Bar Plot for Humidity Over Time"
      ]
    },
    {
      "cell_type": "code",
      "metadata": {},
      "source": [
        "plt.figure(figsize=(10, 6))\n",
        "plt.bar(df['Datetime'], df['Humidity (%)'], color='skyblue')\n",
        "plt.title('Humidity over Time')\n",
        "plt.xlabel('Datetime')\n",
        "plt.ylabel('Humidity (%)')\n",
        "plt.xticks(ticks=x_ticks, rotation=45)\n",
        "plt.show()"
      ],
      "execution_count": null,
      "outputs": []
    },
    {
      "cell_type": "markdown",
      "metadata": {},
      "source": [
        "### Pie Chart for Weather Description Distribution"
      ]
    },
    {
      "cell_type": "code",
      "metadata": {},
      "source": [
        "weather_counts = df['Weather'].value_counts()\n",
        "\n",
        "plt.figure(figsize=(8, 8))\n",
        "plt.pie(weather_counts, labels=weather_counts.index, autopct='%1.1f%%', startangle=140)\n",
        "plt.title('Weather Description Distribution')\n",
        "plt.axis('equal')  # Equal aspect ratio ensures that pie is drawn as a circle.\n",
        "plt.show()"
      ],
      "execution_count": null,
      "outputs": []
    },
    {
      "cell_type": "markdown",
      "metadata": {},
      "source": [
        "### Scatter Plot for Temperature vs. Wind Speed"
      ]
    },
    {
      "cell_type": "code",
      "metadata": {},
      "source": [
        "plt.figure(figsize=(10, 6))\n",
        "plt.scatter(df['Temperature (C)'], df['Wind Speed (m/s)'], c='g', marker='o')\n",
        "plt.title('Temperature vs. Wind Speed')\n",
        "plt.xlabel('Temperature (°C)')\n",
        "plt.ylabel('Wind Speed (m/s)')\n",
        "plt.grid(True)\n",
        "plt.show()"
      ],
      "execution_count": null,
      "outputs": []
    },
    {
      "cell_type": "markdown",
      "metadata": {},
      "source": [
        "## 4. Customizing Plots\n",
        "Customizing plots can make them more informative and visually appealing.\n",
        "\n",
        "### Adding Annotations"
      ]
    },
    {
      "cell_type": "code",
      "metadata": {},
      "source": [
        "plt.figure(figsize=(10, 6))\n",
        "plt.plot(df['Datetime'], df['Temperature (C)'], marker='o')\n",
        "plt.title('Temperature over Time')\n",
        "plt.xlabel('Datetime')\n",
        "plt.ylabel('Temperature (°C)')\n",
        "plt.xticks(ticks=x_ticks, rotation=45)\n",
        "plt.grid(True)\n",
        "\n",
        "# Annotate the highest temperature\n",
        "max_temp = df['Temperature (C)'].max()\n",
        "max_temp_time = df.loc[df['Temperature (C)'] == max_temp, 'Datetime'].iloc[0]\n",
        "plt.annotate(f'Max Temp: {max_temp:.2f}°C', xy=(max_temp_time, max_temp), \n",
        "             xytext=(max_temp_time, max_temp+2), \n",
        "             arrowprops=dict(facecolor='black', shrink=0.05))\n",
        "\n",
        "plt.show()"
      ],
      "execution_count": null,
      "outputs": []
    },
    {
      "cell_type": "markdown",
      "metadata": {},
      "source": [
        "### Customizing Colors and Styles"
      ]
    },
    {
      "cell_type": "code",
      "metadata": {},
      "source": [
        "plt.figure(figsize=(10, 6))\n",
        "plt.plot(df['Datetime'], df['Temperature (C)'], marker='o', linestyle='--', color='b')\n",
        "plt.title('Temperature over Time', fontsize=14, fontweight='bold')\n",
        "plt.xlabel('Datetime', fontsize=12)\n",
        "plt.ylabel('Temperature (°C)', fontsize=12)\n",
        "plt.xticks(ticks=x_ticks, rotation=45)\n",
        "plt.grid(True, linestyle='--', linewidth=0.5)\n",
        "\n",
        "plt.show()"
      ],
      "execution_count": null,
      "outputs": []
    },
    {
      "cell_type": "markdown",
      "metadata": {},
      "source": [
        "## Homework\n",
        "- Create additional plots to visualize other aspects of the weather data (e.g., wind speed, pressure).\n",
        "- Experiment with different types of plots and customizations to enhance the visualizations.\n",
        "\n",
        "## Summary\n",
        "In this session, we learned how to visualize weather data using Matplotlib. We created basic plots such as line plots, bar plots, pie charts, and scatter plots, and we customized these plots to improve readability and presentation.\n",
        "\n",
        "Next session, we will focus on advanced data visualization techniques using subplots and grids."
      ]
    }
  ],
  "metadata": {
    "kernelspec": {
      "display_name": "Python 3",
      "language": "python",
      "name": "python3"
    }
  },
  "nbformat": 4,
  "nbformat_minor": 4
}