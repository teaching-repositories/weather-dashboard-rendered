{
  "cells": [
    {
      "cell_type": "raw",
      "metadata": {},
      "source": [
        "---\n",
        "title: Python Programming Fundamentals with Temperature and Weather Themes\n",
        "execute:\n",
        "  enabled: false\n",
        "---"
      ]
    },
    {
      "cell_type": "markdown",
      "metadata": {},
      "source": [
        "This worksheet will guide you through various programming concepts using Python, focusing on temperature and weather themes. Answer the questions in the provided code cells.\n",
        "\n",
        "\n",
        "\n",
        "## Section 1: Basic Concepts\n",
        "\n",
        "### 1. Python Basics\n",
        "Write a Python program that prints \"Hello, World!\"."
      ]
    },
    {
      "cell_type": "code",
      "metadata": {},
      "source": [
        "# Put your answer here"
      ],
      "execution_count": null,
      "outputs": []
    },
    {
      "cell_type": "markdown",
      "metadata": {},
      "source": [
        "### 2. Variables and Data Types\n",
        "Define a variable `temperature` and assign it a value of 25.5. Print the temperature."
      ]
    },
    {
      "cell_type": "code",
      "metadata": {},
      "source": [
        "# Put your answer here"
      ],
      "execution_count": null,
      "outputs": []
    },
    {
      "cell_type": "markdown",
      "metadata": {},
      "source": [
        "### 3. Input and Output\n",
        "Prompt the user to enter today's temperature in Celsius using `input()`. Convert the input to a float and print it."
      ]
    },
    {
      "cell_type": "code",
      "metadata": {},
      "source": [
        "# Put your answer here"
      ],
      "execution_count": null,
      "outputs": []
    },
    {
      "cell_type": "markdown",
      "metadata": {},
      "source": [
        "### 4. Conditional Statements\n",
        "Write a program that checks if a temperature (`temp`) is above 30°C and prints \"It's a hot day!\" if true, otherwise print \"Enjoy the weather!\"."
      ]
    },
    {
      "cell_type": "code",
      "metadata": {},
      "source": [
        "# Put your answer here"
      ],
      "execution_count": null,
      "outputs": []
    },
    {
      "cell_type": "markdown",
      "metadata": {},
      "source": [
        "### 5. Loops\n",
        "Use a loop to print temperatures from 20°C to 25°C."
      ]
    },
    {
      "cell_type": "code",
      "metadata": {},
      "source": [
        "# Put your answer here"
      ],
      "execution_count": null,
      "outputs": []
    },
    {
      "cell_type": "markdown",
      "metadata": {},
      "source": [
        "## Section 2: Data Handling with pandas and NumPy\n",
        "\n",
        "### 6. Data Handling\n",
        "Create a pandas DataFrame with columns: `Date` and `Temperature`. Add rows for three days with temperatures: [25.5, 28.0, 30.5]. Display the DataFrame."
      ]
    },
    {
      "cell_type": "code",
      "metadata": {},
      "source": [
        "# Put your answer here"
      ],
      "execution_count": null,
      "outputs": []
    },
    {
      "cell_type": "markdown",
      "metadata": {},
      "source": [
        "### 7. Data Manipulation\n",
        "Calculate the average temperature from the DataFrame created in question 6 using pandas."
      ]
    },
    {
      "cell_type": "code",
      "metadata": {},
      "source": [
        "# Put your answer here"
      ],
      "execution_count": null,
      "outputs": []
    },
    {
      "cell_type": "markdown",
      "metadata": {},
      "source": [
        "### 8. Array Operations\n",
        "Use NumPy to create an array `temperatures` with values [23.0, 24.5, 26.0, 27.5]. Print the maximum temperature from this array."
      ]
    },
    {
      "cell_type": "code",
      "metadata": {},
      "source": [
        "# Put your answer here"
      ],
      "execution_count": null,
      "outputs": []
    },
    {
      "cell_type": "markdown",
      "metadata": {},
      "source": [
        "### 9. DataFrame Filtering\n",
        "Filter the DataFrame from question 6 to show days where the temperature was above 28°C."
      ]
    },
    {
      "cell_type": "code",
      "metadata": {},
      "source": [
        "# Put your answer here"
      ],
      "execution_count": null,
      "outputs": []
    },
    {
      "cell_type": "markdown",
      "metadata": {},
      "source": [
        "## Section 3: Visualization with Matplotlib\n",
        "\n",
        "### 10. Simple Plotting\n",
        "Plot the temperatures from question 8 using Matplotlib. Label the x-axis as \"Day\" and y-axis as \"Temperature (°C)\"."
      ]
    },
    {
      "cell_type": "code",
      "metadata": {},
      "source": [
        "# Put your answer here"
      ],
      "execution_count": null,
      "outputs": []
    },
    {
      "cell_type": "markdown",
      "metadata": {},
      "source": [
        "### 11. Customization\n",
        "Enhance the plot from question 10 with a title \"Weekly Temperature Variation\" and grid lines."
      ]
    },
    {
      "cell_type": "code",
      "metadata": {},
      "source": [
        "# Put your answer here"
      ],
      "execution_count": null,
      "outputs": []
    },
    {
      "cell_type": "markdown",
      "metadata": {},
      "source": [
        "### 12. Multiple Plots\n",
        "Create a subplot with two plots: one for temperatures from question 6 and another for temperatures from question 8."
      ]
    },
    {
      "cell_type": "code",
      "metadata": {},
      "source": [
        "# Put your answer here"
      ],
      "execution_count": null,
      "outputs": []
    },
    {
      "cell_type": "markdown",
      "metadata": {},
      "source": [
        "## Section 4: GUI Development with tkinter\n",
        "\n",
        "### 13. Basic GUI\n",
        "Create a tkinter GUI window that displays a label showing today's temperature."
      ]
    },
    {
      "cell_type": "code",
      "metadata": {},
      "source": [
        "# Put your answer here"
      ],
      "execution_count": null,
      "outputs": []
    },
    {
      "cell_type": "markdown",
      "metadata": {},
      "source": [
        "### 14. Input and Buttons\n",
        "Design a GUI where users can input a temperature in Celsius, convert it to Fahrenheit, and display the result when clicking a button."
      ]
    },
    {
      "cell_type": "code",
      "metadata": {},
      "source": [
        "# Put your answer here"
      ],
      "execution_count": null,
      "outputs": []
    },
    {
      "cell_type": "markdown",
      "metadata": {},
      "source": [
        "## Section 5: Advanced Applications\n",
        "\n",
        "### 15. API Integration\n",
        "Use a Python library to fetch real-time weather data (temperature, humidity) from an online API and display it."
      ]
    },
    {
      "cell_type": "code",
      "metadata": {},
      "source": [
        "# Put your answer here"
      ],
      "execution_count": null,
      "outputs": []
    },
    {
      "cell_type": "markdown",
      "metadata": {},
      "source": [
        "### 16. File Handling\n",
        "Write a Python program that reads temperature data from a CSV file and calculates the average temperature."
      ]
    },
    {
      "cell_type": "code",
      "metadata": {},
      "source": [
        "# Put your answer here"
      ],
      "execution_count": null,
      "outputs": []
    },
    {
      "cell_type": "markdown",
      "metadata": {},
      "source": [
        "### 17. Error Handling\n",
        "Implement error handling in a program that prompts the user for a temperature input. Ensure the program handles non-numeric inputs gracefully."
      ]
    },
    {
      "cell_type": "code",
      "metadata": {},
      "source": [
        "# Put your answer here"
      ],
      "execution_count": null,
      "outputs": []
    },
    {
      "cell_type": "markdown",
      "metadata": {},
      "source": [
        "## Section 6: Project Integration with GitHub and JupyterLab\n",
        "\n",
        "### 18. Version Control\n",
        "Describe how GitHub can be used for version control in a programming project like building a weather dashboard."
      ]
    },
    {
      "cell_type": "code",
      "metadata": {},
      "source": [
        "# Put your answer here"
      ],
      "execution_count": null,
      "outputs": []
    },
    {
      "cell_type": "markdown",
      "metadata": {},
      "source": [
        "### 19. Documentation\n",
        "Explain the importance of documentation in programming projects. How would you use JupyterLab and markdown cells for documentation?"
      ]
    },
    {
      "cell_type": "code",
      "metadata": {},
      "source": [
        "# Put your answer here"
      ],
      "execution_count": null,
      "outputs": []
    },
    {
      "cell_type": "markdown",
      "metadata": {},
      "source": [
        "### 20. Collaboration\n",
        "Discuss how multiple developers can collaborate on a Python project using GitHub, focusing on branch management and pull requests."
      ]
    },
    {
      "cell_type": "code",
      "metadata": {},
      "source": [
        "# Put your answer here"
      ],
      "execution_count": null,
      "outputs": []
    },
    {
      "cell_type": "markdown",
      "metadata": {},
      "source": [
        "## Section 7: Review and Synthesis\n",
        "\n",
        "### 21. Problem-Solving Framework\n",
        "Use the 5-step problem-solving framework (understand, inputs/outputs, work by hand, pseudo code, test) to outline a program that converts Fahrenheit to Celsius."
      ]
    },
    {
      "cell_type": "code",
      "metadata": {},
      "source": [
        "# Put your answer here"
      ],
      "execution_count": null,
      "outputs": []
    },
    {
      "cell_type": "markdown",
      "metadata": {},
      "source": [
        "### 22. Integration of Concepts\n",
        "Develop a program that reads weather data from a CSV file, filters temperatures above 25°C, and plots the results using Matplotlib."
      ]
    },
    {
      "cell_type": "code",
      "metadata": {},
      "source": [
        "# Put your answer here"
      ],
      "execution_count": null,
      "outputs": []
    },
    {
      "cell_type": "markdown",
      "metadata": {},
      "source": [
        "### 23. Complex GUI Design\n",
        "Design a tkinter-based GUI for a weather dashboard that displays current weather conditions (temperature, humidity) using data fetched from an API."
      ]
    },
    {
      "cell_type": "code",
      "metadata": {},
      "source": [
        "# Put your answer here"
      ],
      "execution_count": null,
      "outputs": []
    },
    {
      "cell_type": "markdown",
      "metadata": {},
      "source": [
        "### 24. Data Analysis\n",
        "Analyze temperature data collected over a week, calculate the average temperature, and visualize daily fluctuations using pandas and Matplotlib."
      ]
    },
    {
      "cell_type": "code",
      "metadata": {},
      "source": [
        "# Put your answer here"
      ],
      "execution_count": null,
      "outputs": []
    },
    {
      "cell_type": "markdown",
      "metadata": {},
      "source": [
        "## Section 8: Advanced Challenges\n",
        "\n",
        "### 25. Data Interpolation\n",
        "Implement a program that interpolates missing temperature data points in a time series dataset using NumPy or pandas."
      ]
    },
    {
      "cell_type": "code",
      "metadata": {},
      "source": [
        "# Put your answer here"
      ],
      "execution_count": null,
      "outputs": []
    },
    {
      "cell_type": "markdown",
      "metadata": {},
      "source": [
        "### 26. Statistical Analysis\n",
        "Conduct statistical analysis on temperature data collected over a month, including mean, median, and standard deviation calculations."
      ]
    },
    {
      "cell_type": "code",
      "metadata": {},
      "source": [
        "# Put your answer here"
      ],
      "execution_count": null,
      "outputs": []
    },
    {
      "cell_type": "markdown",
      "metadata": {},
      "source": [
        "### 27. Dynamic Visualization\n",
        "Create a dynamic visualization using Matplotlib that updates in real-time as new temperature data is fetched from an API.\n"
      ]
    },
    {
      "cell_type": "code",
      "metadata": {},
      "source": [
        "# Put your answer here"
      ],
      "execution_count": null,
      "outputs": []
    },
    {
      "cell_type": "markdown",
      "metadata": {},
      "source": [
        "### 28. Error Analysis\n",
        "Develop a program that analyzes temperature data for outliers (extreme values) and suggests corrective actions based on statistical analysis."
      ]
    },
    {
      "cell_type": "code",
      "metadata": {},
      "source": [
        "# Put your answer here"
      ],
      "execution_count": null,
      "outputs": []
    },
    {
      "cell_type": "markdown",
      "metadata": {},
      "source": [
        "### 29. Project Integration\n",
        "Integrate all concepts learned into a comprehensive weather dashboard project using Python, pandas, Matplotlib, tkinter, and GitHub for version control and collaboration."
      ]
    },
    {
      "cell_type": "code",
      "metadata": {},
      "source": [
        "# Put your answer here"
      ],
      "execution_count": null,
      "outputs": []
    }
  ],
  "metadata": {
    "kernelspec": {
      "display_name": "Python 3",
      "language": "python",
      "name": "python3"
    }
  },
  "nbformat": 4,
  "nbformat_minor": 4
}