{
  "cells": [
    {
      "cell_type": "raw",
      "metadata": {},
      "source": [
        "---\n",
        "title: \"WeatherVista Project - Session 6: Creating a GUI with Jupyter Widgets\"\n",
        "execute: \n",
        "  enabled: false\n",
        "---"
      ]
    },
    {
      "cell_type": "markdown",
      "metadata": {},
      "source": [
        "## Objectives\n",
        "- Learn how to create a graphical user interface (GUI) for the WeatherVista project.\n",
        "- Understand the basics of Jupyter Widgets building notebook applications.\n",
        "- Explore using Jupyter Widgets for interactive elements in Jupyter notebooks.\n",
        "  \n",
        "## Setting Up the Environment\n",
        "\n",
        "Begin by installing the ipywidgets library and enabling the widgets extension in Jupyter Notebooks to ensure a seamless interactive experience. This step sets the foundation for integrating dynamic controls into your notebooks."
      ]
    },
    {
      "cell_type": "code",
      "metadata": {},
      "source": [
        "import pandas as pd\n",
        "import matplotlib.pyplot as plt\n",
        "import ipywidgets as widgets\n",
        "from IPython.display import display\n",
        "import weather_plots as wp \n",
        "import matplotlib.patches as patches\n",
        "from fetch_data import fetch_weather_data\n",
        "from process_data import process_weather_data\n",
        "from utils import determine_weather"
      ],
      "execution_count": null,
      "outputs": []
    },
    {
      "cell_type": "markdown",
      "metadata": {},
      "source": [
        "## Fetching Weather Data\n",
        "Utilize APIs such as OpenWeatherMap to fetch current weather data. This step involves making HTTP requests and processing the received JSON data to extract relevant weather information."
      ]
    },
    {
      "cell_type": "code",
      "metadata": {},
      "source": [
        "api_key = 'd0de46031ad7410d0c72c6063690e1d0'  # Replace with your OpenWeatherMap API key\n",
        "city = 'Sydney'  # Default city for demonstration\n",
        "current_data, forecast_data = fetch_weather_data(api_key, city)\n",
        "current_df, hourly_df, daily_df = process_weather_data(current_data, forecast_data)"
      ],
      "execution_count": null,
      "outputs": []
    },
    {
      "cell_type": "markdown",
      "metadata": {},
      "source": [
        "## Determining Weather Conditions\n",
        "Analyze the fetched data to determine specific weather conditions like temperature, humidity, and wind speed. This processing helps in displaying meaningful information and creating visualizations."
      ]
    },
    {
      "cell_type": "code",
      "metadata": {},
      "source": [
        "daily_df['Weather'] = daily_df.apply(determine_weather, axis=1, args=(25, 15, 80))"
      ],
      "execution_count": null,
      "outputs": []
    },
    {
      "cell_type": "markdown",
      "metadata": {},
      "source": [
        "### 5. Creating Dropdown Widget\n",
        "Create a dropdown widget using ipywidgets to allow users to select different cities or weather parameters. This widget will enable dynamic interaction and updates based on user input."
      ]
    },
    {
      "cell_type": "code",
      "metadata": {},
      "source": [
        "city_dropdown = widgets.Dropdown(\n",
        "    options=['Sydney', 'New York', 'London', 'Beijing'],\n",
        "    value='Sydney',\n",
        "    description='City:'\n",
        ")\n",
        "display(city_dropdown)"
      ],
      "execution_count": null,
      "outputs": []
    },
    {
      "cell_type": "markdown",
      "metadata": {},
      "source": [
        "### 6. Creating Update Button\n",
        "Add an update button to trigger the fetching and processing of weather data based on the selected dropdown options. This button will help refresh the displayed information without re-running the entire notebook."
      ]
    },
    {
      "cell_type": "code",
      "metadata": {},
      "source": [
        "update_button = widgets.Button(\n",
        "    description='Update Weather',\n",
        "    button_style='success'\n",
        ")\n",
        "display(update_button)"
      ],
      "execution_count": null,
      "outputs": []
    },
    {
      "cell_type": "markdown",
      "metadata": {},
      "source": [
        "### 7. Output Area for Plots\n",
        "\n",
        "Designate an output area using ipywidgets where the weather plots will be displayed. This area will dynamically update as the user interacts with the dropdown and update button."
      ]
    },
    {
      "cell_type": "code",
      "metadata": {},
      "source": [
        "output = widgets.Output()\n",
        "display(output)"
      ],
      "execution_count": null,
      "outputs": []
    },
    {
      "cell_type": "markdown",
      "metadata": {},
      "source": [
        "### 8. Updating Weather Data and Plots\n",
        "\n",
        "Implement functionality to update the weather data and corresponding plots when the user changes the dropdown selection or clicks the update button. This ensures the displayed data is always current and relevant."
      ]
    },
    {
      "cell_type": "code",
      "metadata": {},
      "source": [
        "def update_weather(b):\n",
        "    city = city_dropdown.value\n",
        "    current_data, forecast_data = fetch_weather_data(api_key, city)\n",
        "    current_df, hourly_df, daily_df = process_weather_data(current_data, forecast_data)\n",
        "    daily_df['Weather'] = daily_df.apply(determine_weather, axis=1, args=(25, 15, 80))\n",
        "    \n",
        "    with output:\n",
        "        output.clear_output()\n",
        "        fig, axs = plt.subplots(1, 3, figsize=(15, 4))\n",
        "        fig.tight_layout(pad=5.0)\n",
        "\n",
        "        # Generate plots\n",
        "        wp.create_forecast_card(axs[0], daily_df.iloc[0]['Date'], daily_df.iloc[0]['Max Temperature (C)'], daily_df.iloc[0]['Min Temperature (C)'], daily_df.iloc[0]['Weather'])\n",
        "        wp.plot_scatter(hourly_df, 'Temperature (C)', 'Wind Speed (m/s)', axs[1], title=\"Wind Speed vs Temperature\")\n",
        "        wp.plot_min_max(daily_df, 'Date', 'Min Temperature (C)', 'Max Temperature (C)', axs[2], title=\"Daily Min/Max Temperature\")\n",
        "\n",
        "        plt.show()"
      ],
      "execution_count": null,
      "outputs": []
    },
    {
      "cell_type": "markdown",
      "metadata": {},
      "source": [
        "## Add events and display initial dashboard\n",
        "\n",
        "Bind the created widgets to events and display the initial dashboard layout. This setup will prepare the interface for user interactions, showing the initial state of the weather data and plots."
      ]
    },
    {
      "cell_type": "code",
      "metadata": {},
      "source": [
        "update_button.on_click(update_weather)\n",
        "display(city_dropdown, update_button, output)\n",
        "update_weather(None)"
      ],
      "execution_count": null,
      "outputs": []
    },
    {
      "cell_type": "markdown",
      "metadata": {},
      "source": [
        "## Combining Everything\n",
        "\n",
        "Integrate all components into a cohesive interactive dashboard that updates weather data and visualizations in real-time based on user input. This final step brings together the dropdown, update button, and output area to create a functional and dynamic weather dashboard."
      ]
    },
    {
      "cell_type": "code",
      "metadata": {},
      "source": [
        "import pandas as pd\n",
        "import matplotlib.pyplot as plt\n",
        "import ipywidgets as widgets\n",
        "from IPython.display import display\n",
        "import weather_plots as wp  # Assuming this contains your plotting functions\n",
        "import matplotlib.patches as patches\n",
        "from fetch_data import fetch_weather_data\n",
        "from process_data import process_weather_data\n",
        "\n",
        "def determine_weather(row, sunny_threshold, rainy_min_temp_threshold, rainy_humidity_threshold):\n",
        "    if row['Max Temperature (C)'] > sunny_threshold:\n",
        "        return 'Sunny'\n",
        "    elif row['Min Temperature (C)'] < rainy_min_temp_threshold and row['Max Humidity (%)'] > rainy_humidity_threshold:\n",
        "        return 'Rainy'\n",
        "    else:\n",
        "        return 'Partly Cloudy'\n",
        "\n",
        "# Dropdown for city selection\n",
        "city_dropdown = widgets.Dropdown(\n",
        "    options=['Sydney', 'New York', 'London', 'Beijing'],\n",
        "    value='Sydney',\n",
        "    description='City:'\n",
        ")\n",
        "\n",
        "# Button to fetch and update weather data\n",
        "update_button = widgets.Button(\n",
        "    description='Update Weather',\n",
        "    button_style='success'\n",
        ")\n",
        "\n",
        "output = widgets.Output()\n",
        "\n",
        "# Function to update weather data and plots\n",
        "def update_weather(b):\n",
        "    city = city_dropdown.value\n",
        "    api_key = 'd0de46031ad7410d0c72c6063690e1d0'  # Replace with your OpenWeatherMap API key\n",
        "    current_data, forecast_data = fetch_weather_data(api_key, city)\n",
        "    current_df, hourly_df, daily_df = process_weather_data(current_data, forecast_data)\n",
        "    daily_df['Weather'] = daily_df.apply(determine_weather, axis=1, args=(25, 15, 80))\n",
        "\n",
        "    with output:\n",
        "        output.clear_output()\n",
        "        fig, axs = plt.subplots(1, 3, figsize=(15, 4))\n",
        "        fig.tight_layout(pad=5.0)\n",
        "\n",
        "        # Generate plots\n",
        "        wp.create_forecast_card(axs[0], daily_df.iloc[0]['Date'], daily_df.iloc[0]['Max Temperature (C)'], daily_df.iloc[0]['Min Temperature (C)'], daily_df.iloc[0]['Weather'])\n",
        "        wp.plot_scatter(hourly_df, 'Temperature (C)', 'Wind Speed (m/s)', axs[1], title=\"Wind Speed vs Temperature\")\n",
        "        wp.plot_min_max(daily_df, 'Date', 'Min Temperature (C)', 'Max Temperature (C)', axs[2], title=\"Daily Min/Max Temperature\")\n",
        "\n",
        "        plt.show()\n",
        "\n",
        "update_button.on_click(update_weather)\n",
        "display(city_dropdown, update_button, output)\n",
        "update_weather(None)"
      ],
      "execution_count": null,
      "outputs": []
    }
  ],
  "metadata": {
    "kernelspec": {
      "display_name": "Python 3",
      "language": "python",
      "name": "python3"
    }
  },
  "nbformat": 4,
  "nbformat_minor": 4
}