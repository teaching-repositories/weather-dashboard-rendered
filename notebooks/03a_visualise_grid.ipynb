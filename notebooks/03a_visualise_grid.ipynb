{
  "cells": [
    {
      "cell_type": "raw",
      "metadata": {},
      "source": [
        "---\n",
        "title: \"WeatherVista Project - Session 3: Basic Data Visualisation with Matplotlib and Pandas\"\n",
        "execute: \n",
        "  enabled: false\n",
        "---"
      ]
    },
    {
      "cell_type": "markdown",
      "metadata": {},
      "source": [
        "## Task\n",
        "\n",
        "Understand matplotlib grids layout\n"
      ]
    },
    {
      "cell_type": "code",
      "metadata": {},
      "source": [
        "import matplotlib.pyplot as plt\n",
        "\n",
        "fig, axs = plt.subplots(2, 2, figsize=(14, 10))\n",
        "\n",
        "axs[0, 0].plot([1, 2, 3], [1, 4, 9])  # Top-left subplot\n",
        "axs[0, 1].plot([1, 2, 3], [1, 2, 3])  # Top-right subplot\n",
        "axs[1, 0].plot([1, 2, 3], [9, 4, 1])  # Bottom-left subplot\n",
        "axs[1, 1].plot([1, 2, 3], [3, 2, 1])  # Bottom-right subplot\n",
        "\n",
        "plt.tight_layout()\n",
        "plt.show()\n",
        "\n",
        "# Save the figure\n",
        "fig.savefig('my_plot.png')"
      ],
      "execution_count": null,
      "outputs": []
    }
  ],
  "metadata": {
    "kernelspec": {
      "name": "python3",
      "language": "python",
      "display_name": "Python 3 (ipykernel)"
    }
  },
  "nbformat": 4,
  "nbformat_minor": 4
}