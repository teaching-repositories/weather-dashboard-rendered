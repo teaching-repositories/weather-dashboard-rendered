{
  "cells": [
    {
      "cell_type": "markdown",
      "metadata": {},
      "source": [
        "### Python Fundamentals Review Worksheet\n",
        "\n",
        "#### Objective:\n",
        "This worksheet is designed to review the basics of Python programming, including creating variables, simple if-then statements, basic loops, using print, and handling input. Answer the following questions to the best of your ability.\n",
        "\n",
        "\n",
        "1. **Creating Variables**\n",
        "    - Write a Python statement to create a variable named `name` and assign it the value `\"Alice\"`."
      ]
    },
    {
      "cell_type": "code",
      "metadata": {
        "md-indent": "    "
      },
      "source": [
        "# Your code here"
      ],
      "execution_count": null,
      "outputs": []
    },
    {
      "cell_type": "markdown",
      "metadata": {},
      "source": [
        "2. **Creating Variables**\n",
        "    - Create two variables: `age` with the value `30` and `height` with the value `5.9`."
      ]
    },
    {
      "cell_type": "code",
      "metadata": {
        "md-indent": "    "
      },
      "source": [
        "# Your code here"
      ],
      "execution_count": null,
      "outputs": []
    },
    {
      "cell_type": "markdown",
      "metadata": {},
      "source": [
        "3. **Simple If-Then Statement**\n",
        "    - Write an if-then statement that prints \"You are an adult.\" if the variable `age` is greater than or equal to 18."
      ]
    },
    {
      "cell_type": "code",
      "metadata": {
        "md-indent": "    "
      },
      "source": [
        "age = 20  # You can change this value for testing\n",
        "\n",
        "# Your code here"
      ],
      "execution_count": null,
      "outputs": []
    },
    {
      "cell_type": "markdown",
      "metadata": {},
      "source": [
        "4. **Simple If-Then Statement**\n",
        "    - Write an if-then statement that checks if a number stored in the variable `number` is positive. If it is, print \"The number is positive.\""
      ]
    },
    {
      "cell_type": "code",
      "metadata": {
        "md-indent": "    "
      },
      "source": [
        "number = 5  # You can change this value for testing\n",
        "\n",
        "# Your code here"
      ],
      "execution_count": null,
      "outputs": []
    },
    {
      "cell_type": "markdown",
      "metadata": {},
      "source": [
        "5. **Basic Loops**\n",
        "    - Write a for loop that prints the numbers from 1 to 5."
      ]
    },
    {
      "cell_type": "code",
      "metadata": {
        "md-indent": "    "
      },
      "source": [
        "# Your code here"
      ],
      "execution_count": null,
      "outputs": []
    },
    {
      "cell_type": "markdown",
      "metadata": {},
      "source": [
        "6. **Basic Loops**\n",
        "    - Write a while loop that prints the numbers from 1 to 5."
      ]
    },
    {
      "cell_type": "code",
      "metadata": {
        "md-indent": "    "
      },
      "source": [
        "i = 1\n",
        "\n",
        "# Your code here"
      ],
      "execution_count": null,
      "outputs": []
    },
    {
      "cell_type": "markdown",
      "metadata": {},
      "source": [
        "7. **Combining Variables and If-Then Statements**\n",
        "    - Create a variable `temperature` with the value `75`. Write an if-then statement that prints \"It's warm outside.\" if `temperature` is greater than or equal to 70."
      ]
    },
    {
      "cell_type": "code",
      "metadata": {
        "md-indent": "    "
      },
      "source": [
        "temperature = 75\n",
        "\n",
        "# Your code here"
      ],
      "execution_count": null,
      "outputs": []
    },
    {
      "cell_type": "markdown",
      "metadata": {},
      "source": [
        "8. **Using Loops with If-Then Statements**\n",
        "    - Write a for loop that iterates over the list `numbers = [1, 2, 3, 4, 5]` and prints each number only if it is even."
      ]
    },
    {
      "cell_type": "code",
      "metadata": {
        "md-indent": "    "
      },
      "source": [
        "numbers = [1, 2, 3, 4, 5]\n",
        "\n",
        "# Your code here"
      ],
      "execution_count": null,
      "outputs": []
    },
    {
      "cell_type": "markdown",
      "metadata": {},
      "source": [
        "9. **Modifying Variables in Loops**\n",
        "    - Write a while loop that starts with a variable `count` set to 0 and increments `count` by 1 each iteration. The loop should stop when `count` reaches 10, and the value of `count` should be printed at the end."
      ]
    },
    {
      "cell_type": "code",
      "metadata": {
        "md-indent": "    "
      },
      "source": [
        "count = 0\n",
        "\n",
        "# Your code here"
      ],
      "execution_count": null,
      "outputs": []
    },
    {
      "cell_type": "markdown",
      "metadata": {},
      "source": [
        "10. **Nested Loops**\n",
        "    - Write a nested loop that prints a 3x3 grid of asterisks (`*`)."
      ]
    },
    {
      "cell_type": "code",
      "metadata": {
        "md-indent": "    "
      },
      "source": [
        "# Your code here"
      ],
      "execution_count": null,
      "outputs": []
    },
    {
      "cell_type": "markdown",
      "metadata": {},
      "source": [
        "11. **Using `print` Function**\n",
        "    - Write a Python program that prints \"Hello, World!\" to the console."
      ]
    },
    {
      "cell_type": "code",
      "metadata": {
        "md-indent": "    "
      },
      "source": [
        "# Your code here"
      ],
      "execution_count": null,
      "outputs": []
    },
    {
      "cell_type": "markdown",
      "metadata": {},
      "source": [
        "12. **Using `input` Function**\n",
        "    - Write a Python program that prompts the user for their name and then prints a greeting message with their name. For example, if the user inputs \"Alice\", the program should print \"Hello, Alice!\"."
      ]
    },
    {
      "cell_type": "code",
      "metadata": {
        "md-indent": "    "
      },
      "source": [
        "# Your code here"
      ],
      "execution_count": null,
      "outputs": []
    },
    {
      "cell_type": "markdown",
      "metadata": {},
      "source": [
        "#### Additional Notes:\n",
        "- Make sure to test your code by running it in a Python environment.\n",
        "- Feel free to modify variable values to test different scenarios.\n",
        "- Practice writing clean and readable code by using proper indentation and comments.\n",
        "\n",
        "\n",
        "#### Conclusion:\n",
        "This worksheet provides a fundamental review of Python programming basics. Ensure you understand each concept thoroughly before moving on to more advanced topics."
      ]
    }
  ],
  "metadata": {
    "kernelspec": {
      "name": "jupyter",
      "language": "python",
      "display_name": "Jupyter"
    }
  },
  "nbformat": 4,
  "nbformat_minor": 4
}